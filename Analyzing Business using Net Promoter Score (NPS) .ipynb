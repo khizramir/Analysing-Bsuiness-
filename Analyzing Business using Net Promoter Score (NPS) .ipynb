{
 "cells": [
  {
   "cell_type": "code",
   "execution_count": 2,
   "metadata": {},
   "outputs": [],
   "source": [
    "import pandas as pd\n",
    "import numpy as np\n",
    "import matplotlib.pyplot as plt"
   ]
  },
  {
   "cell_type": "code",
   "execution_count": 3,
   "metadata": {},
   "outputs": [],
   "source": [
    "nps = pd.read_csv(\"nps.csv\")"
   ]
  },
  {
   "cell_type": "code",
   "execution_count": 4,
   "metadata": {},
   "outputs": [
    {
     "data": {
      "text/html": [
       "<div>\n",
       "<style scoped>\n",
       "    .dataframe tbody tr th:only-of-type {\n",
       "        vertical-align: middle;\n",
       "    }\n",
       "\n",
       "    .dataframe tbody tr th {\n",
       "        vertical-align: top;\n",
       "    }\n",
       "\n",
       "    .dataframe thead th {\n",
       "        text-align: right;\n",
       "    }\n",
       "</style>\n",
       "<table border=\"1\" class=\"dataframe\">\n",
       "  <thead>\n",
       "    <tr style=\"text-align: right;\">\n",
       "      <th></th>\n",
       "      <th>event_date</th>\n",
       "      <th>user_id</th>\n",
       "      <th>score</th>\n",
       "    </tr>\n",
       "  </thead>\n",
       "  <tbody>\n",
       "    <tr>\n",
       "      <th>0</th>\n",
       "      <td>2020-01-01 19:00:51</td>\n",
       "      <td>290067447</td>\n",
       "      <td>8</td>\n",
       "    </tr>\n",
       "    <tr>\n",
       "      <th>1</th>\n",
       "      <td>2020-01-02 17:34:43</td>\n",
       "      <td>223014806</td>\n",
       "      <td>10</td>\n",
       "    </tr>\n",
       "    <tr>\n",
       "      <th>2</th>\n",
       "      <td>2020-01-02 19:11:55</td>\n",
       "      <td>187864388</td>\n",
       "      <td>10</td>\n",
       "    </tr>\n",
       "    <tr>\n",
       "      <th>3</th>\n",
       "      <td>2020-01-02 19:27:00</td>\n",
       "      <td>318758952</td>\n",
       "      <td>8</td>\n",
       "    </tr>\n",
       "    <tr>\n",
       "      <th>4</th>\n",
       "      <td>2020-01-02 21:42:19</td>\n",
       "      <td>189933311</td>\n",
       "      <td>0</td>\n",
       "    </tr>\n",
       "  </tbody>\n",
       "</table>\n",
       "</div>"
      ],
      "text/plain": [
       "            event_date    user_id  score\n",
       "0  2020-01-01 19:00:51  290067447      8\n",
       "1  2020-01-02 17:34:43  223014806     10\n",
       "2  2020-01-02 19:11:55  187864388     10\n",
       "3  2020-01-02 19:27:00  318758952      8\n",
       "4  2020-01-02 21:42:19  189933311      0"
      ]
     },
     "execution_count": 4,
     "metadata": {},
     "output_type": "execute_result"
    }
   ],
   "source": [
    "nps.head()"
   ]
  },
  {
   "cell_type": "code",
   "execution_count": 5,
   "metadata": {},
   "outputs": [
    {
     "name": "stdout",
     "output_type": "stream",
     "text": [
      "<class 'pandas.core.frame.DataFrame'>\n",
      "RangeIndex: 3326 entries, 0 to 3325\n",
      "Data columns (total 3 columns):\n",
      " #   Column      Non-Null Count  Dtype \n",
      "---  ------      --------------  ----- \n",
      " 0   event_date  3326 non-null   object\n",
      " 1   user_id     3326 non-null   int64 \n",
      " 2   score       3326 non-null   int64 \n",
      "dtypes: int64(2), object(1)\n",
      "memory usage: 78.1+ KB\n"
     ]
    }
   ],
   "source": [
    "nps.info()"
   ]
  },
  {
   "cell_type": "code",
   "execution_count": 6,
   "metadata": {},
   "outputs": [],
   "source": [
    "nps[\"event_date\"] = pd.to_datetime(nps[\"event_date\"])"
   ]
  },
  {
   "cell_type": "code",
   "execution_count": 7,
   "metadata": {},
   "outputs": [
    {
     "name": "stdout",
     "output_type": "stream",
     "text": [
      "<class 'pandas.core.frame.DataFrame'>\n",
      "RangeIndex: 3326 entries, 0 to 3325\n",
      "Data columns (total 3 columns):\n",
      " #   Column      Non-Null Count  Dtype         \n",
      "---  ------      --------------  -----         \n",
      " 0   event_date  3326 non-null   datetime64[ns]\n",
      " 1   user_id     3326 non-null   int64         \n",
      " 2   score       3326 non-null   int64         \n",
      "dtypes: datetime64[ns](1), int64(2)\n",
      "memory usage: 78.1 KB\n"
     ]
    }
   ],
   "source": [
    "nps.info()"
   ]
  },
  {
   "cell_type": "markdown",
   "metadata": {},
   "source": [
    "TYPE OF CUSTOMERS \n",
    "1. Detractors\n",
    "2. Passives\n",
    "3. Promoters"
   ]
  },
  {
   "cell_type": "markdown",
   "metadata": {},
   "source": [
    "Net Promoter Score (nps) = Promoters% - Detractors%"
   ]
  },
  {
   "cell_type": "markdown",
   "metadata": {},
   "source": [
    "1. Add a column represnting year_month"
   ]
  },
  {
   "cell_type": "code",
   "execution_count": 8,
   "metadata": {},
   "outputs": [],
   "source": [
    "year = nps[\"event_date\"].dt.year\n",
    "month = nps[\"event_date\"].dt.month\n",
    "yearmonth = year*100 + month"
   ]
  },
  {
   "cell_type": "code",
   "execution_count": 9,
   "metadata": {},
   "outputs": [],
   "source": [
    "nps[\"yearmonth\"]= yearmonth"
   ]
  },
  {
   "cell_type": "code",
   "execution_count": 10,
   "metadata": {},
   "outputs": [
    {
     "data": {
      "text/html": [
       "<div>\n",
       "<style scoped>\n",
       "    .dataframe tbody tr th:only-of-type {\n",
       "        vertical-align: middle;\n",
       "    }\n",
       "\n",
       "    .dataframe tbody tr th {\n",
       "        vertical-align: top;\n",
       "    }\n",
       "\n",
       "    .dataframe thead th {\n",
       "        text-align: right;\n",
       "    }\n",
       "</style>\n",
       "<table border=\"1\" class=\"dataframe\">\n",
       "  <thead>\n",
       "    <tr style=\"text-align: right;\">\n",
       "      <th></th>\n",
       "      <th>event_date</th>\n",
       "      <th>user_id</th>\n",
       "      <th>score</th>\n",
       "      <th>yearmonth</th>\n",
       "    </tr>\n",
       "  </thead>\n",
       "  <tbody>\n",
       "    <tr>\n",
       "      <th>0</th>\n",
       "      <td>2020-01-01 19:00:51</td>\n",
       "      <td>290067447</td>\n",
       "      <td>8</td>\n",
       "      <td>202001</td>\n",
       "    </tr>\n",
       "    <tr>\n",
       "      <th>1</th>\n",
       "      <td>2020-01-02 17:34:43</td>\n",
       "      <td>223014806</td>\n",
       "      <td>10</td>\n",
       "      <td>202001</td>\n",
       "    </tr>\n",
       "    <tr>\n",
       "      <th>2</th>\n",
       "      <td>2020-01-02 19:11:55</td>\n",
       "      <td>187864388</td>\n",
       "      <td>10</td>\n",
       "      <td>202001</td>\n",
       "    </tr>\n",
       "    <tr>\n",
       "      <th>3</th>\n",
       "      <td>2020-01-02 19:27:00</td>\n",
       "      <td>318758952</td>\n",
       "      <td>8</td>\n",
       "      <td>202001</td>\n",
       "    </tr>\n",
       "    <tr>\n",
       "      <th>4</th>\n",
       "      <td>2020-01-02 21:42:19</td>\n",
       "      <td>189933311</td>\n",
       "      <td>0</td>\n",
       "      <td>202001</td>\n",
       "    </tr>\n",
       "  </tbody>\n",
       "</table>\n",
       "</div>"
      ],
      "text/plain": [
       "           event_date    user_id  score  yearmonth\n",
       "0 2020-01-01 19:00:51  290067447      8     202001\n",
       "1 2020-01-02 17:34:43  223014806     10     202001\n",
       "2 2020-01-02 19:11:55  187864388     10     202001\n",
       "3 2020-01-02 19:27:00  318758952      8     202001\n",
       "4 2020-01-02 21:42:19  189933311      0     202001"
      ]
     },
     "execution_count": 10,
     "metadata": {},
     "output_type": "execute_result"
    }
   ],
   "source": [
    "nps.head()"
   ]
  },
  {
   "cell_type": "markdown",
   "metadata": {},
   "source": [
    "Customer Type Rating Scale \n",
    "\n",
    "Assuimung:\n",
    "    \n",
    "Detrector -> 0-6\n",
    "Passive   -> 7-8 \n",
    "Promoter  -> 9-10"
   ]
  },
  {
   "cell_type": "markdown",
   "metadata": {},
   "source": [
    "2. Make a conlumn \"Category\" and mention the type of customers"
   ]
  },
  {
   "cell_type": "code",
   "execution_count": 11,
   "metadata": {},
   "outputs": [],
   "source": [
    "def cat(score):\n",
    "    if score in range (0,7): #[0,1,2,3,4,5,6]\n",
    "        return \"Detrector\"\n",
    "    elif score in [7,8]:\n",
    "        return \"Passive\"\n",
    "    else:\n",
    "        return \"Promoter\""
   ]
  },
  {
   "cell_type": "code",
   "execution_count": 12,
   "metadata": {},
   "outputs": [],
   "source": [
    "nps[\"category\"] = nps[\"score\"].apply(cat)"
   ]
  },
  {
   "cell_type": "code",
   "execution_count": 13,
   "metadata": {},
   "outputs": [
    {
     "data": {
      "text/html": [
       "<div>\n",
       "<style scoped>\n",
       "    .dataframe tbody tr th:only-of-type {\n",
       "        vertical-align: middle;\n",
       "    }\n",
       "\n",
       "    .dataframe tbody tr th {\n",
       "        vertical-align: top;\n",
       "    }\n",
       "\n",
       "    .dataframe thead th {\n",
       "        text-align: right;\n",
       "    }\n",
       "</style>\n",
       "<table border=\"1\" class=\"dataframe\">\n",
       "  <thead>\n",
       "    <tr style=\"text-align: right;\">\n",
       "      <th></th>\n",
       "      <th>event_date</th>\n",
       "      <th>user_id</th>\n",
       "      <th>score</th>\n",
       "      <th>yearmonth</th>\n",
       "      <th>category</th>\n",
       "    </tr>\n",
       "  </thead>\n",
       "  <tbody>\n",
       "    <tr>\n",
       "      <th>0</th>\n",
       "      <td>2020-01-01 19:00:51</td>\n",
       "      <td>290067447</td>\n",
       "      <td>8</td>\n",
       "      <td>202001</td>\n",
       "      <td>Passive</td>\n",
       "    </tr>\n",
       "    <tr>\n",
       "      <th>1</th>\n",
       "      <td>2020-01-02 17:34:43</td>\n",
       "      <td>223014806</td>\n",
       "      <td>10</td>\n",
       "      <td>202001</td>\n",
       "      <td>Promoter</td>\n",
       "    </tr>\n",
       "    <tr>\n",
       "      <th>2</th>\n",
       "      <td>2020-01-02 19:11:55</td>\n",
       "      <td>187864388</td>\n",
       "      <td>10</td>\n",
       "      <td>202001</td>\n",
       "      <td>Promoter</td>\n",
       "    </tr>\n",
       "    <tr>\n",
       "      <th>3</th>\n",
       "      <td>2020-01-02 19:27:00</td>\n",
       "      <td>318758952</td>\n",
       "      <td>8</td>\n",
       "      <td>202001</td>\n",
       "      <td>Passive</td>\n",
       "    </tr>\n",
       "    <tr>\n",
       "      <th>4</th>\n",
       "      <td>2020-01-02 21:42:19</td>\n",
       "      <td>189933311</td>\n",
       "      <td>0</td>\n",
       "      <td>202001</td>\n",
       "      <td>Detrector</td>\n",
       "    </tr>\n",
       "  </tbody>\n",
       "</table>\n",
       "</div>"
      ],
      "text/plain": [
       "           event_date    user_id  score  yearmonth   category\n",
       "0 2020-01-01 19:00:51  290067447      8     202001    Passive\n",
       "1 2020-01-02 17:34:43  223014806     10     202001   Promoter\n",
       "2 2020-01-02 19:11:55  187864388     10     202001   Promoter\n",
       "3 2020-01-02 19:27:00  318758952      8     202001    Passive\n",
       "4 2020-01-02 21:42:19  189933311      0     202001  Detrector"
      ]
     },
     "execution_count": 13,
     "metadata": {},
     "output_type": "execute_result"
    }
   ],
   "source": [
    "nps.head()"
   ]
  },
  {
   "cell_type": "code",
   "execution_count": 14,
   "metadata": {},
   "outputs": [
    {
     "data": {
      "text/plain": [
       "yearmonth  category \n",
       "202001     Detrector     31\n",
       "           Passive       82\n",
       "           Promoter     215\n",
       "202002     Detrector     22\n",
       "           Passive       90\n",
       "           Promoter     161\n",
       "202003     Detrector     33\n",
       "           Passive       72\n",
       "           Promoter     125\n",
       "202004     Detrector     36\n",
       "           Passive       87\n",
       "           Promoter     178\n",
       "202005     Detrector     33\n",
       "           Passive       83\n",
       "           Promoter     191\n",
       "202006     Detrector     32\n",
       "           Passive       80\n",
       "           Promoter     215\n",
       "202007     Detrector     48\n",
       "           Passive       95\n",
       "           Promoter     258\n",
       "202008     Detrector     40\n",
       "           Passive      103\n",
       "           Promoter     256\n",
       "202009     Detrector     18\n",
       "           Passive       68\n",
       "           Promoter     135\n",
       "202010     Detrector     36\n",
       "           Passive       83\n",
       "           Promoter     177\n",
       "202011     Detrector     18\n",
       "           Passive       27\n",
       "           Promoter      72\n",
       "202012     Detrector     22\n",
       "           Passive       42\n",
       "           Promoter      62\n",
       "dtype: int64"
      ]
     },
     "execution_count": 14,
     "metadata": {},
     "output_type": "execute_result"
    }
   ],
   "source": [
    "nps.groupby([\"yearmonth\",\"category\"]).size()"
   ]
  },
  {
   "cell_type": "code",
   "execution_count": 15,
   "metadata": {},
   "outputs": [
    {
     "data": {
      "text/plain": [
       "82"
      ]
     },
     "execution_count": 15,
     "metadata": {},
     "output_type": "execute_result"
    }
   ],
   "source": [
    "# hierarchical_indexing \n",
    "# nps.loc[(row_label1,row_label2),column_label]\n",
    "nps.groupby([\"yearmonth\",\"category\"]).size().loc[(202001,\"Passive\")]"
   ]
  },
  {
   "cell_type": "markdown",
   "metadata": {},
   "source": [
    "3. Representing the result in pivot table"
   ]
  },
  {
   "cell_type": "code",
   "execution_count": 16,
   "metadata": {},
   "outputs": [],
   "source": [
    "df_nps = nps.pivot_table(index = \"yearmonth\", columns=\"category\", aggfunc = \"size\")"
   ]
  },
  {
   "cell_type": "code",
   "execution_count": 17,
   "metadata": {},
   "outputs": [
    {
     "data": {
      "text/html": [
       "<div>\n",
       "<style scoped>\n",
       "    .dataframe tbody tr th:only-of-type {\n",
       "        vertical-align: middle;\n",
       "    }\n",
       "\n",
       "    .dataframe tbody tr th {\n",
       "        vertical-align: top;\n",
       "    }\n",
       "\n",
       "    .dataframe thead th {\n",
       "        text-align: right;\n",
       "    }\n",
       "</style>\n",
       "<table border=\"1\" class=\"dataframe\">\n",
       "  <thead>\n",
       "    <tr style=\"text-align: right;\">\n",
       "      <th>category</th>\n",
       "      <th>Detrector</th>\n",
       "      <th>Passive</th>\n",
       "      <th>Promoter</th>\n",
       "    </tr>\n",
       "    <tr>\n",
       "      <th>yearmonth</th>\n",
       "      <th></th>\n",
       "      <th></th>\n",
       "      <th></th>\n",
       "    </tr>\n",
       "  </thead>\n",
       "  <tbody>\n",
       "    <tr>\n",
       "      <th>202001</th>\n",
       "      <td>31</td>\n",
       "      <td>82</td>\n",
       "      <td>215</td>\n",
       "    </tr>\n",
       "    <tr>\n",
       "      <th>202002</th>\n",
       "      <td>22</td>\n",
       "      <td>90</td>\n",
       "      <td>161</td>\n",
       "    </tr>\n",
       "    <tr>\n",
       "      <th>202003</th>\n",
       "      <td>33</td>\n",
       "      <td>72</td>\n",
       "      <td>125</td>\n",
       "    </tr>\n",
       "    <tr>\n",
       "      <th>202004</th>\n",
       "      <td>36</td>\n",
       "      <td>87</td>\n",
       "      <td>178</td>\n",
       "    </tr>\n",
       "    <tr>\n",
       "      <th>202005</th>\n",
       "      <td>33</td>\n",
       "      <td>83</td>\n",
       "      <td>191</td>\n",
       "    </tr>\n",
       "    <tr>\n",
       "      <th>202006</th>\n",
       "      <td>32</td>\n",
       "      <td>80</td>\n",
       "      <td>215</td>\n",
       "    </tr>\n",
       "    <tr>\n",
       "      <th>202007</th>\n",
       "      <td>48</td>\n",
       "      <td>95</td>\n",
       "      <td>258</td>\n",
       "    </tr>\n",
       "    <tr>\n",
       "      <th>202008</th>\n",
       "      <td>40</td>\n",
       "      <td>103</td>\n",
       "      <td>256</td>\n",
       "    </tr>\n",
       "    <tr>\n",
       "      <th>202009</th>\n",
       "      <td>18</td>\n",
       "      <td>68</td>\n",
       "      <td>135</td>\n",
       "    </tr>\n",
       "    <tr>\n",
       "      <th>202010</th>\n",
       "      <td>36</td>\n",
       "      <td>83</td>\n",
       "      <td>177</td>\n",
       "    </tr>\n",
       "    <tr>\n",
       "      <th>202011</th>\n",
       "      <td>18</td>\n",
       "      <td>27</td>\n",
       "      <td>72</td>\n",
       "    </tr>\n",
       "    <tr>\n",
       "      <th>202012</th>\n",
       "      <td>22</td>\n",
       "      <td>42</td>\n",
       "      <td>62</td>\n",
       "    </tr>\n",
       "  </tbody>\n",
       "</table>\n",
       "</div>"
      ],
      "text/plain": [
       "category   Detrector  Passive  Promoter\n",
       "yearmonth                              \n",
       "202001            31       82       215\n",
       "202002            22       90       161\n",
       "202003            33       72       125\n",
       "202004            36       87       178\n",
       "202005            33       83       191\n",
       "202006            32       80       215\n",
       "202007            48       95       258\n",
       "202008            40      103       256\n",
       "202009            18       68       135\n",
       "202010            36       83       177\n",
       "202011            18       27        72\n",
       "202012            22       42        62"
      ]
     },
     "execution_count": 17,
     "metadata": {},
     "output_type": "execute_result"
    }
   ],
   "source": [
    "df_nps"
   ]
  },
  {
   "cell_type": "markdown",
   "metadata": {},
   "source": [
    "4. Calculate nps and add a column in the dataframe"
   ]
  },
  {
   "cell_type": "code",
   "execution_count": 18,
   "metadata": {},
   "outputs": [],
   "source": [
    "df_nps[\"Total\"]=df_nps.sum(axis=1)"
   ]
  },
  {
   "cell_type": "code",
   "execution_count": 19,
   "metadata": {},
   "outputs": [
    {
     "data": {
      "text/html": [
       "<div>\n",
       "<style scoped>\n",
       "    .dataframe tbody tr th:only-of-type {\n",
       "        vertical-align: middle;\n",
       "    }\n",
       "\n",
       "    .dataframe tbody tr th {\n",
       "        vertical-align: top;\n",
       "    }\n",
       "\n",
       "    .dataframe thead th {\n",
       "        text-align: right;\n",
       "    }\n",
       "</style>\n",
       "<table border=\"1\" class=\"dataframe\">\n",
       "  <thead>\n",
       "    <tr style=\"text-align: right;\">\n",
       "      <th>category</th>\n",
       "      <th>Detrector</th>\n",
       "      <th>Passive</th>\n",
       "      <th>Promoter</th>\n",
       "      <th>Total</th>\n",
       "    </tr>\n",
       "    <tr>\n",
       "      <th>yearmonth</th>\n",
       "      <th></th>\n",
       "      <th></th>\n",
       "      <th></th>\n",
       "      <th></th>\n",
       "    </tr>\n",
       "  </thead>\n",
       "  <tbody>\n",
       "    <tr>\n",
       "      <th>202001</th>\n",
       "      <td>31</td>\n",
       "      <td>82</td>\n",
       "      <td>215</td>\n",
       "      <td>328</td>\n",
       "    </tr>\n",
       "    <tr>\n",
       "      <th>202002</th>\n",
       "      <td>22</td>\n",
       "      <td>90</td>\n",
       "      <td>161</td>\n",
       "      <td>273</td>\n",
       "    </tr>\n",
       "    <tr>\n",
       "      <th>202003</th>\n",
       "      <td>33</td>\n",
       "      <td>72</td>\n",
       "      <td>125</td>\n",
       "      <td>230</td>\n",
       "    </tr>\n",
       "    <tr>\n",
       "      <th>202004</th>\n",
       "      <td>36</td>\n",
       "      <td>87</td>\n",
       "      <td>178</td>\n",
       "      <td>301</td>\n",
       "    </tr>\n",
       "    <tr>\n",
       "      <th>202005</th>\n",
       "      <td>33</td>\n",
       "      <td>83</td>\n",
       "      <td>191</td>\n",
       "      <td>307</td>\n",
       "    </tr>\n",
       "    <tr>\n",
       "      <th>202006</th>\n",
       "      <td>32</td>\n",
       "      <td>80</td>\n",
       "      <td>215</td>\n",
       "      <td>327</td>\n",
       "    </tr>\n",
       "    <tr>\n",
       "      <th>202007</th>\n",
       "      <td>48</td>\n",
       "      <td>95</td>\n",
       "      <td>258</td>\n",
       "      <td>401</td>\n",
       "    </tr>\n",
       "    <tr>\n",
       "      <th>202008</th>\n",
       "      <td>40</td>\n",
       "      <td>103</td>\n",
       "      <td>256</td>\n",
       "      <td>399</td>\n",
       "    </tr>\n",
       "    <tr>\n",
       "      <th>202009</th>\n",
       "      <td>18</td>\n",
       "      <td>68</td>\n",
       "      <td>135</td>\n",
       "      <td>221</td>\n",
       "    </tr>\n",
       "    <tr>\n",
       "      <th>202010</th>\n",
       "      <td>36</td>\n",
       "      <td>83</td>\n",
       "      <td>177</td>\n",
       "      <td>296</td>\n",
       "    </tr>\n",
       "    <tr>\n",
       "      <th>202011</th>\n",
       "      <td>18</td>\n",
       "      <td>27</td>\n",
       "      <td>72</td>\n",
       "      <td>117</td>\n",
       "    </tr>\n",
       "    <tr>\n",
       "      <th>202012</th>\n",
       "      <td>22</td>\n",
       "      <td>42</td>\n",
       "      <td>62</td>\n",
       "      <td>126</td>\n",
       "    </tr>\n",
       "  </tbody>\n",
       "</table>\n",
       "</div>"
      ],
      "text/plain": [
       "category   Detrector  Passive  Promoter  Total\n",
       "yearmonth                                     \n",
       "202001            31       82       215    328\n",
       "202002            22       90       161    273\n",
       "202003            33       72       125    230\n",
       "202004            36       87       178    301\n",
       "202005            33       83       191    307\n",
       "202006            32       80       215    327\n",
       "202007            48       95       258    401\n",
       "202008            40      103       256    399\n",
       "202009            18       68       135    221\n",
       "202010            36       83       177    296\n",
       "202011            18       27        72    117\n",
       "202012            22       42        62    126"
      ]
     },
     "execution_count": 19,
     "metadata": {},
     "output_type": "execute_result"
    }
   ],
   "source": [
    "df_nps"
   ]
  },
  {
   "cell_type": "code",
   "execution_count": 20,
   "metadata": {},
   "outputs": [],
   "source": [
    "df_nps[\"NPS\"]=(df_nps[\"Promoter\"]-df_nps[\"Detrector\"])*100/df_nps[\"Total\"]"
   ]
  },
  {
   "cell_type": "code",
   "execution_count": 21,
   "metadata": {},
   "outputs": [
    {
     "data": {
      "text/html": [
       "<div>\n",
       "<style scoped>\n",
       "    .dataframe tbody tr th:only-of-type {\n",
       "        vertical-align: middle;\n",
       "    }\n",
       "\n",
       "    .dataframe tbody tr th {\n",
       "        vertical-align: top;\n",
       "    }\n",
       "\n",
       "    .dataframe thead th {\n",
       "        text-align: right;\n",
       "    }\n",
       "</style>\n",
       "<table border=\"1\" class=\"dataframe\">\n",
       "  <thead>\n",
       "    <tr style=\"text-align: right;\">\n",
       "      <th>category</th>\n",
       "      <th>Detrector</th>\n",
       "      <th>Passive</th>\n",
       "      <th>Promoter</th>\n",
       "      <th>Total</th>\n",
       "      <th>NPS</th>\n",
       "    </tr>\n",
       "    <tr>\n",
       "      <th>yearmonth</th>\n",
       "      <th></th>\n",
       "      <th></th>\n",
       "      <th></th>\n",
       "      <th></th>\n",
       "      <th></th>\n",
       "    </tr>\n",
       "  </thead>\n",
       "  <tbody>\n",
       "    <tr>\n",
       "      <th>202001</th>\n",
       "      <td>31</td>\n",
       "      <td>82</td>\n",
       "      <td>215</td>\n",
       "      <td>328</td>\n",
       "      <td>56.097561</td>\n",
       "    </tr>\n",
       "    <tr>\n",
       "      <th>202002</th>\n",
       "      <td>22</td>\n",
       "      <td>90</td>\n",
       "      <td>161</td>\n",
       "      <td>273</td>\n",
       "      <td>50.915751</td>\n",
       "    </tr>\n",
       "    <tr>\n",
       "      <th>202003</th>\n",
       "      <td>33</td>\n",
       "      <td>72</td>\n",
       "      <td>125</td>\n",
       "      <td>230</td>\n",
       "      <td>40.000000</td>\n",
       "    </tr>\n",
       "    <tr>\n",
       "      <th>202004</th>\n",
       "      <td>36</td>\n",
       "      <td>87</td>\n",
       "      <td>178</td>\n",
       "      <td>301</td>\n",
       "      <td>47.176080</td>\n",
       "    </tr>\n",
       "    <tr>\n",
       "      <th>202005</th>\n",
       "      <td>33</td>\n",
       "      <td>83</td>\n",
       "      <td>191</td>\n",
       "      <td>307</td>\n",
       "      <td>51.465798</td>\n",
       "    </tr>\n",
       "    <tr>\n",
       "      <th>202006</th>\n",
       "      <td>32</td>\n",
       "      <td>80</td>\n",
       "      <td>215</td>\n",
       "      <td>327</td>\n",
       "      <td>55.963303</td>\n",
       "    </tr>\n",
       "    <tr>\n",
       "      <th>202007</th>\n",
       "      <td>48</td>\n",
       "      <td>95</td>\n",
       "      <td>258</td>\n",
       "      <td>401</td>\n",
       "      <td>52.369077</td>\n",
       "    </tr>\n",
       "    <tr>\n",
       "      <th>202008</th>\n",
       "      <td>40</td>\n",
       "      <td>103</td>\n",
       "      <td>256</td>\n",
       "      <td>399</td>\n",
       "      <td>54.135338</td>\n",
       "    </tr>\n",
       "    <tr>\n",
       "      <th>202009</th>\n",
       "      <td>18</td>\n",
       "      <td>68</td>\n",
       "      <td>135</td>\n",
       "      <td>221</td>\n",
       "      <td>52.941176</td>\n",
       "    </tr>\n",
       "    <tr>\n",
       "      <th>202010</th>\n",
       "      <td>36</td>\n",
       "      <td>83</td>\n",
       "      <td>177</td>\n",
       "      <td>296</td>\n",
       "      <td>47.635135</td>\n",
       "    </tr>\n",
       "    <tr>\n",
       "      <th>202011</th>\n",
       "      <td>18</td>\n",
       "      <td>27</td>\n",
       "      <td>72</td>\n",
       "      <td>117</td>\n",
       "      <td>46.153846</td>\n",
       "    </tr>\n",
       "    <tr>\n",
       "      <th>202012</th>\n",
       "      <td>22</td>\n",
       "      <td>42</td>\n",
       "      <td>62</td>\n",
       "      <td>126</td>\n",
       "      <td>31.746032</td>\n",
       "    </tr>\n",
       "  </tbody>\n",
       "</table>\n",
       "</div>"
      ],
      "text/plain": [
       "category   Detrector  Passive  Promoter  Total        NPS\n",
       "yearmonth                                                \n",
       "202001            31       82       215    328  56.097561\n",
       "202002            22       90       161    273  50.915751\n",
       "202003            33       72       125    230  40.000000\n",
       "202004            36       87       178    301  47.176080\n",
       "202005            33       83       191    307  51.465798\n",
       "202006            32       80       215    327  55.963303\n",
       "202007            48       95       258    401  52.369077\n",
       "202008            40      103       256    399  54.135338\n",
       "202009            18       68       135    221  52.941176\n",
       "202010            36       83       177    296  47.635135\n",
       "202011            18       27        72    117  46.153846\n",
       "202012            22       42        62    126  31.746032"
      ]
     },
     "execution_count": 21,
     "metadata": {},
     "output_type": "execute_result"
    }
   ],
   "source": [
    "df_nps"
   ]
  },
  {
   "cell_type": "markdown",
   "metadata": {},
   "source": [
    "5. Ploting this sequential data using line graph"
   ]
  },
  {
   "cell_type": "code",
   "execution_count": 31,
   "metadata": {},
   "outputs": [
    {
     "data": {
      "image/png": "[encoded data removed]",
      "text/plain": [
       "<Figure size 864x432 with 1 Axes>"
      ]
     },
     "metadata": {
      "needs_background": "light"
     },
     "output_type": "display_data"
    }
   ],
   "source": [
    "ax=df_nps.reset_index().plot(x=\"yearmonth\",y=\"NPS\",\n",
    "                         title = \"Monthly NPS Comparrision\",\n",
    "                         figsize=(12,6), legend=False)\n",
    "plt.title(\"Monthly NPS Comparrision\", y=1.07)\n",
    "#plt.xticks(df_nps.index,df_nps.index)\n",
    "plt.xticks(df_nps.index)\n",
    "ax.set_xticklabels(df_nps.index)\n",
    "plt.xlabel(\" \")\n",
    "plt.show()"
   ]
  },
  {
   "cell_type": "code",
   "execution_count": null,
   "metadata": {},
   "outputs": [],
   "source": []
  },
  {
   "cell_type": "code",
   "execution_count": null,
   "metadata": {},
   "outputs": [],
   "source": []
  }
 ],
 "metadata": {
  "kernelspec": {
   "display_name": "Python 3",
   "language": "python",
   "name": "python3"
  }
 },
 "nbformat": 4,
 "nbformat_minor": 4
}
